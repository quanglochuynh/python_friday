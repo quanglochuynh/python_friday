{
 "cells": [
  {
   "cell_type": "code",
   "execution_count": 20,
   "metadata": {},
   "outputs": [],
   "source": [
    "import numpy as np\n",
    "from math import floor\n",
    "n = 5\n",
    "m = 15\n",
    "\n",
    "w = [12, 2, 1, 1, 4]\n",
    "v = [4, 2, 1, 2, 10]\n",
    "\n",
    "#[0, 1,0, 0, 1]"
   ]
  },
  {
   "cell_type": "code",
   "execution_count": 2,
   "metadata": {},
   "outputs": [],
   "source": [
    "class DNA:\n",
    "    def __init__(self):\n",
    "        self.dvar = np.random.randint(0,2,n)\n",
    "        self.fitness = 0\n",
    "\n",
    "    \n",
    "    def calc_fitness(self):\n",
    "        self.fitness = np.sum(self.dvar * v)\n",
    "        total_weight = np.sum(self.dvar * w)\n",
    "        err = total_weight - m\n",
    "        if total_weight>m:\n",
    "            self.fitness = self.fitness - 2*err\n",
    "\n",
    "    def mutate(self):\n",
    "        for i in range(n):\n",
    "            if np.random.rand()<0.25:\n",
    "                self.dvar[i] = 1 - self.dvar[i]\n",
    "            "
   ]
  },
  {
   "cell_type": "code",
   "execution_count": 3,
   "metadata": {},
   "outputs": [
    {
     "name": "stdout",
     "output_type": "stream",
     "text": [
      "[0 1 0 0 0]\n",
      "0\n"
     ]
    }
   ],
   "source": [
    "dna = DNA()\n",
    "print(dna.dvar)\n",
    "print(dna.fitness)"
   ]
  },
  {
   "cell_type": "code",
   "execution_count": 4,
   "metadata": {},
   "outputs": [],
   "source": [
    "def crossover(dna1, dna2):\n",
    "    new_dna = DNA()\n",
    "    mid = np.random.randint(0,n)\n",
    "    a1 = dna1.dvar[0:mid]\n",
    "    a2 = dna2.dvar[mid:n]\n",
    "    new_dna.dvar = np.concatenate([a1, a2], axis=None)\n",
    "    new_dna.calc_fitness()\n",
    "    return new_dna"
   ]
  },
  {
   "cell_type": "code",
   "execution_count": 5,
   "metadata": {},
   "outputs": [
    {
     "name": "stdout",
     "output_type": "stream",
     "text": [
      "[0 0 0 0 1]\n",
      "[1 1 0 0 1]\n"
     ]
    }
   ],
   "source": [
    "d1 = DNA()\n",
    "print(d1.dvar)\n",
    "d2 = DNA()\n",
    "print(d2.dvar)"
   ]
  },
  {
   "cell_type": "code",
   "execution_count": 6,
   "metadata": {},
   "outputs": [
    {
     "name": "stdout",
     "output_type": "stream",
     "text": [
      "[0 0 0 0 1]\n",
      "10\n"
     ]
    }
   ],
   "source": [
    "d3 = crossover(d1, d2)\n",
    "print(d3.dvar)\n",
    "print(d3.fitness)"
   ]
  },
  {
   "cell_type": "code",
   "execution_count": 7,
   "metadata": {},
   "outputs": [
    {
     "name": "stdout",
     "output_type": "stream",
     "text": [
      "[1 0 1 1 1]\n"
     ]
    }
   ],
   "source": [
    "d4 = DNA()\n",
    "print(d4.dvar)\n"
   ]
  },
  {
   "cell_type": "code",
   "execution_count": 8,
   "metadata": {},
   "outputs": [
    {
     "name": "stdout",
     "output_type": "stream",
     "text": [
      "[1 0 1 0 0]\n"
     ]
    }
   ],
   "source": [
    "d4.mutate()\n",
    "print(d4.dvar)"
   ]
  },
  {
   "cell_type": "code",
   "execution_count": 16,
   "metadata": {},
   "outputs": [
    {
     "name": "stdout",
     "output_type": "stream",
     "text": [
      "13\n",
      "11\n",
      "12\n",
      "12\n",
      "12\n",
      "12\n",
      "15\n",
      "11\n",
      "4\n",
      "2\n",
      "7\n",
      "0\n",
      "6\n",
      "6\n",
      "10\n",
      "1\n",
      "7\n",
      "5\n",
      "10\n",
      "12\n"
     ]
    }
   ],
   "source": [
    "# initialize first population\n",
    "pop_size = 20\n",
    "population = []\n",
    "for i in range(pop_size):\n",
    "    population.append(DNA())\n",
    "    population[i].calc_fitness()\n",
    "    print(population[i].fitness)"
   ]
  },
  {
   "cell_type": "code",
   "execution_count": 23,
   "metadata": {},
   "outputs": [
    {
     "name": "stdout",
     "output_type": "stream",
     "text": [
      "[0, 0, 0, 0, 0, 0, 0, 0, 0, 0, 0, 0, 0, 0, 0, 0, 0, 0, 0, 0, 0, 1, 1, 1, 1, 1, 1, 1, 1, 1, 1, 1, 1, 1, 1, 1, 2, 2, 2, 2, 2, 2, 2, 2, 2, 2, 2, 2, 2, 2, 2, 2, 2, 2, 3, 3, 3, 3, 3, 3, 3, 3, 3, 3, 3, 3, 3, 3, 3, 3, 3, 3, 4, 4, 4, 4, 4, 4, 4, 4, 4, 4, 4, 4, 4, 4, 4, 4, 4, 4, 5, 5, 5, 5, 5, 5, 5, 5, 5, 5, 5, 5, 5, 5, 5, 5, 5, 5, 6, 6, 6, 6, 6, 6, 6, 6, 6, 6, 6, 6, 6, 6, 6, 6, 6, 6, 6, 6, 6, 6, 6, 6, 6, 6, 6, 6, 7, 7, 7, 7, 7, 7, 7, 7, 7, 7, 7, 7, 7, 7, 7, 8, 8, 10, 10, 10, 10, 10, 10, 12, 12, 12, 12, 13, 13, 13, 13, 14, 14, 14, 14, 14, 14, 14, 14, 14, 14, 14, 14, 16, 16, 16, 16, 16, 16, 17, 17, 17, 18, 18, 18, 18, 18, 18, 18, 18, 18, 18, 18, 18, 19, 19, 19, 19, 19, 19, 19, 19, 19, 19, 19, 19, 19, 19, 19, 19, 19, 19]\n"
     ]
    }
   ],
   "source": [
    "pool = []\n",
    "for i in range(pop_size):\n",
    "    for j in range(floor(pow(population[i].fitness,2)/8)):\n",
    "        pool.append(i)\n",
    "\n",
    "print(pool)"
   ]
  },
  {
   "cell_type": "code",
   "execution_count": null,
   "metadata": {},
   "outputs": [],
   "source": [
    "num_of_iteration = 100\n",
    "\n",
    "for it in range(num_of_iteration):\n",
    "    "
   ]
  }
 ],
 "metadata": {
  "kernelspec": {
   "display_name": "Python 3.10.0 64-bit",
   "language": "python",
   "name": "python3"
  },
  "language_info": {
   "codemirror_mode": {
    "name": "ipython",
    "version": 3
   },
   "file_extension": ".py",
   "mimetype": "text/x-python",
   "name": "python",
   "nbconvert_exporter": "python",
   "pygments_lexer": "ipython3",
   "version": "3.10.0"
  },
  "orig_nbformat": 4,
  "vscode": {
   "interpreter": {
    "hash": "aee8b7b246df8f9039afb4144a1f6fd8d2ca17a180786b69acc140d282b71a49"
   }
  }
 },
 "nbformat": 4,
 "nbformat_minor": 2
}
