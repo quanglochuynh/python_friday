{
 "cells": [
  {
   "cell_type": "code",
   "execution_count": 145,
   "metadata": {},
   "outputs": [],
   "source": [
    "import numpy as np\n",
    "from math import floor, inf\n",
    "n = 10\n",
    "m = 15\n",
    "\n",
    "w = [12, 2, 1, 1, 4, 6, 8, 12, 3, 5]\n",
    "v = [4, 2, 1, 2, 10, 6, 8,  4, 6, 1]\n",
    "\n",
    "#[0, 1,0, 0, 1]"
   ]
  },
  {
   "cell_type": "code",
   "execution_count": 146,
   "metadata": {},
   "outputs": [],
   "source": [
    "class DNA:\n",
    "    def __init__(self):\n",
    "        self.dvar = np.random.randint(0,2,n)\n",
    "        self.fitness = 0\n",
    "\n",
    "    \n",
    "    def calc_fitness(self):\n",
    "        self.fitness = np.sum(self.dvar * v)\n",
    "        total_weight = np.sum(self.dvar * w)\n",
    "        err = total_weight - m\n",
    "        if total_weight>m:\n",
    "            self.fitness = self.fitness - 2*err\n",
    "\n",
    "    def mutate(self):\n",
    "        for i in range(n):\n",
    "            if np.random.rand()<0.25:\n",
    "                self.dvar[i] = 1 - self.dvar[i]\n",
    "            "
   ]
  },
  {
   "cell_type": "code",
   "execution_count": 147,
   "metadata": {},
   "outputs": [
    {
     "name": "stdout",
     "output_type": "stream",
     "text": [
      "[0 0 1 0 1 1 1 1 0 1]\n",
      "0\n"
     ]
    }
   ],
   "source": [
    "dna = DNA()\n",
    "print(dna.dvar)\n",
    "print(dna.fitness)"
   ]
  },
  {
   "cell_type": "code",
   "execution_count": 148,
   "metadata": {},
   "outputs": [],
   "source": [
    "def crossover(dna1, dna2):\n",
    "    new_dna = DNA()\n",
    "    mid = np.random.randint(0,n)\n",
    "    a1 = dna1.dvar[0:mid]\n",
    "    a2 = dna2.dvar[mid:n]\n",
    "    new_dna.dvar = np.concatenate([a1, a2], axis=None)\n",
    "    new_dna.calc_fitness()\n",
    "    return new_dna"
   ]
  },
  {
   "cell_type": "code",
   "execution_count": 149,
   "metadata": {},
   "outputs": [
    {
     "name": "stdout",
     "output_type": "stream",
     "text": [
      "[0 0 1 1 0 0 0 0 0 1]\n",
      "[0 0 0 1 0 1 1 1 1 0]\n"
     ]
    }
   ],
   "source": [
    "d1 = DNA()\n",
    "print(d1.dvar)\n",
    "d2 = DNA()\n",
    "print(d2.dvar)"
   ]
  },
  {
   "cell_type": "code",
   "execution_count": 150,
   "metadata": {},
   "outputs": [
    {
     "name": "stdout",
     "output_type": "stream",
     "text": [
      "[0 0 1 1 0 0 0 0 0 0]\n",
      "3\n"
     ]
    }
   ],
   "source": [
    "d3 = crossover(d1, d2)\n",
    "print(d3.dvar)\n",
    "print(d3.fitness)"
   ]
  },
  {
   "cell_type": "code",
   "execution_count": 151,
   "metadata": {},
   "outputs": [
    {
     "name": "stdout",
     "output_type": "stream",
     "text": [
      "[0 1 0 1 1 1 0 1 1 0]\n"
     ]
    }
   ],
   "source": [
    "d4 = DNA()\n",
    "print(d4.dvar)\n"
   ]
  },
  {
   "cell_type": "code",
   "execution_count": 152,
   "metadata": {},
   "outputs": [
    {
     "name": "stdout",
     "output_type": "stream",
     "text": [
      "[0 0 0 1 1 1 0 1 1 0]\n"
     ]
    }
   ],
   "source": [
    "d4.mutate()\n",
    "print(d4.dvar)"
   ]
  },
  {
   "cell_type": "code",
   "execution_count": 153,
   "metadata": {},
   "outputs": [
    {
     "name": "stdout",
     "output_type": "stream",
     "text": [
      "-1\n",
      "-15\n",
      "-13\n",
      "13\n",
      "-4\n",
      "7\n",
      "-6\n",
      "-12\n",
      "3\n",
      "8\n",
      "-18\n",
      "10\n",
      "-4\n",
      "-19\n",
      "-5\n",
      "1\n",
      "15\n",
      "9\n",
      "1\n",
      "4\n"
     ]
    }
   ],
   "source": [
    "# initialize first population\n",
    "pop_size = 20\n",
    "population = []\n",
    "for i in range(pop_size):\n",
    "    population.append(DNA())\n",
    "    population[i].calc_fitness()\n",
    "    print(population[i].fitness)"
   ]
  },
  {
   "cell_type": "code",
   "execution_count": 154,
   "metadata": {},
   "outputs": [
    {
     "name": "stdout",
     "output_type": "stream",
     "text": [
      "[3, 3, 3, 3, 3, 3, 3, 3, 3, 3, 3, 3, 3, 3, 3, 3, 3, 3, 3, 3, 3, 3, 3, 3, 3, 3, 3, 3, 3, 3, 3, 3, 9, 11, 11, 11, 11, 16, 16, 16, 16, 16, 16, 16, 16, 16, 16, 16, 16, 16, 16, 16, 16, 16, 16, 16, 16, 16, 16, 16, 16, 16, 16, 16, 16, 16, 16, 16, 16, 16, 16, 16, 16, 16, 16, 16, 16, 16, 16, 16, 16, 16, 16, 16, 16, 16, 16, 16, 16, 16, 16, 16, 16, 16, 16, 16, 16, 16, 16, 16, 16, 16, 16, 16, 16, 16, 16, 16, 16, 16, 16, 16, 16, 16, 16, 16, 16, 16, 16, 16, 16, 16, 16, 16, 16, 16, 16, 16, 16, 16, 16, 16, 16, 16, 16, 16, 16, 16, 16, 16, 16, 16, 16, 16, 16, 16, 16, 16, 16, 16, 16, 16, 16, 16, 16, 16, 16, 16, 16, 16, 16, 16, 16, 16, 16, 17, 17]\n"
     ]
    }
   ],
   "source": [
    "pool = []\n",
    "for i in range(pop_size):\n",
    "    for j in range(floor(pow(2,max(population[i].fitness,0))/256)):\n",
    "        pool.append(i)\n",
    "\n",
    "print(pool)"
   ]
  },
  {
   "cell_type": "code",
   "execution_count": 155,
   "metadata": {},
   "outputs": [
    {
     "name": "stdout",
     "output_type": "stream",
     "text": [
      "[0 1 0 1 1 0 0 0 0 1]\n",
      "[0 1 0 1 0 1 0 0 1 1]\n",
      "[0 1 0 1 0 1 0 0 1 1]\n"
     ]
    }
   ],
   "source": [
    "id1 = np.random.choice(pool)\n",
    "id2 = np.random.choice(pool)\n",
    "print(population[id1].dvar)\n",
    "print(population[id2].dvar)\n",
    "\n",
    "dna3 = crossover(population[id1], population[id2])\n",
    "print(dna3.dvar)"
   ]
  },
  {
   "cell_type": "code",
   "execution_count": 156,
   "metadata": {},
   "outputs": [
    {
     "name": "stdout",
     "output_type": "stream",
     "text": [
      "Generation 0\n",
      "best = 18\n",
      "Generation 1\n",
      "best = 24\n",
      "Generation 2\n",
      "best = 24\n",
      "Generation 3\n",
      "best = 24\n",
      "Generation 4\n",
      "best = 24\n",
      "Generation 5\n",
      "best = 24\n",
      "Generation 6\n",
      "best = 24\n",
      "Generation 7\n",
      "best = 25\n",
      "Generation 8\n",
      "best = 25\n",
      "Generation 9\n",
      "best = 25\n",
      "Generation 10\n",
      "best = 25\n",
      "Generation 11\n",
      "best = 25\n",
      "Generation 12\n",
      "best = 25\n",
      "Generation 13\n",
      "best = 25\n",
      "Generation 14\n",
      "best = 25\n",
      "Generation 15\n",
      "best = 25\n",
      "Generation 16\n",
      "best = 25\n",
      "Generation 17\n",
      "best = 25\n",
      "Generation 18\n",
      "best = 25\n",
      "Generation 19\n",
      "best = 25\n",
      "Generation 20\n",
      "best = 25\n",
      "Generation 21\n",
      "best = 25\n",
      "Generation 22\n",
      "best = 25\n",
      "Generation 23\n",
      "best = 25\n",
      "Generation 24\n",
      "best = 25\n",
      "Generation 25\n",
      "best = 25\n",
      "Generation 26\n",
      "best = 25\n",
      "Generation 27\n",
      "best = 25\n",
      "Generation 28\n",
      "best = 25\n",
      "Generation 29\n",
      "best = 25\n",
      "Generation 30\n",
      "best = 25\n",
      "Generation 31\n",
      "best = 25\n",
      "Generation 32\n",
      "best = 25\n",
      "Generation 33\n",
      "best = 25\n",
      "Generation 34\n",
      "best = 25\n",
      "Generation 35\n",
      "best = 25\n",
      "Generation 36\n",
      "best = 25\n",
      "Generation 37\n",
      "best = 25\n",
      "Generation 38\n",
      "best = 25\n",
      "Generation 39\n",
      "best = 25\n",
      "Generation 40\n",
      "best = 25\n",
      "Generation 41\n",
      "best = 25\n",
      "Generation 42\n",
      "best = 25\n",
      "Generation 43\n",
      "best = 25\n",
      "Generation 44\n",
      "best = 25\n",
      "Generation 45\n",
      "best = 25\n",
      "Generation 46\n",
      "best = 25\n",
      "Generation 47\n",
      "best = 25\n",
      "Generation 48\n",
      "best = 25\n",
      "Generation 49\n",
      "best = 25\n",
      "Generation 50\n",
      "best = 25\n",
      "Generation 51\n",
      "best = 25\n",
      "Generation 52\n",
      "best = 25\n",
      "Generation 53\n",
      "best = 25\n",
      "Generation 54\n",
      "best = 25\n",
      "Generation 55\n",
      "best = 25\n",
      "Generation 56\n",
      "best = 25\n",
      "Generation 57\n",
      "best = 25\n",
      "Generation 58\n",
      "best = 25\n",
      "Generation 59\n",
      "best = 25\n",
      "Generation 60\n",
      "best = 25\n",
      "Generation 61\n",
      "best = 25\n",
      "Generation 62\n",
      "best = 25\n",
      "Generation 63\n",
      "best = 25\n",
      "Generation 64\n",
      "best = 25\n",
      "Generation 65\n",
      "best = 25\n",
      "Generation 66\n",
      "best = 25\n",
      "Generation 67\n",
      "best = 25\n",
      "Generation 68\n",
      "best = 25\n",
      "Generation 69\n",
      "best = 25\n",
      "Generation 70\n",
      "best = 25\n",
      "Generation 71\n",
      "best = 25\n",
      "Generation 72\n",
      "best = 25\n",
      "Generation 73\n",
      "best = 25\n",
      "Generation 74\n",
      "best = 25\n",
      "Generation 75\n",
      "best = 25\n",
      "Generation 76\n",
      "best = 25\n",
      "Generation 77\n",
      "best = 25\n",
      "Generation 78\n",
      "best = 25\n",
      "Generation 79\n",
      "best = 25\n",
      "Generation 80\n",
      "best = 25\n",
      "Generation 81\n",
      "best = 25\n",
      "Generation 82\n",
      "best = 25\n",
      "Generation 83\n",
      "best = 25\n",
      "Generation 84\n",
      "best = 25\n",
      "Generation 85\n",
      "best = 25\n",
      "Generation 86\n",
      "best = 25\n",
      "Generation 87\n",
      "best = 25\n",
      "Generation 88\n",
      "best = 25\n",
      "Generation 89\n",
      "best = 25\n",
      "Generation 90\n",
      "best = 25\n",
      "Generation 91\n",
      "best = 25\n",
      "Generation 92\n",
      "best = 25\n",
      "Generation 93\n",
      "best = 25\n",
      "Generation 94\n",
      "best = 25\n",
      "Generation 95\n",
      "best = 25\n",
      "Generation 96\n",
      "best = 25\n",
      "Generation 97\n",
      "best = 25\n",
      "Generation 98\n",
      "best = 25\n",
      "Generation 99\n",
      "best = 25\n"
     ]
    }
   ],
   "source": [
    "num_of_iteration = 100\n",
    "best_fit = -inf\n",
    "best_dna = DNA()\n",
    "\n",
    "for it in range(num_of_iteration):\n",
    "    print(\"Generation\", it)\n",
    "    new_population = []\n",
    "    pool = []\n",
    "    for i in range(pop_size):\n",
    "        for j in range(floor(pow(2,max(population[i].fitness,0))/256)):\n",
    "            pool.append(i)\n",
    "    for i in range(pop_size):\n",
    "        id1 = np.random.choice(pool)\n",
    "        id2 = np.random.choice(pool)\n",
    "        dna3 = crossover(population[id1], population[id2])\n",
    "        dna3.mutate()\n",
    "        dna3.calc_fitness()\n",
    "        if dna3.fitness > best_fit:\n",
    "            best_fit = dna3.fitness\n",
    "            best_dna = dna3\n",
    "        new_population.append(dna3)\n",
    "    population = new_population\n",
    "    print(\"best =\", best_fit)"
   ]
  },
  {
   "cell_type": "code",
   "execution_count": null,
   "metadata": {},
   "outputs": [],
   "source": []
  },
  {
   "cell_type": "code",
   "execution_count": 158,
   "metadata": {},
   "outputs": [
    {
     "name": "stdout",
     "output_type": "stream",
     "text": [
      "[0 0 1 1 1 1 0 0 1 0]\n"
     ]
    }
   ],
   "source": [
    "print(best_dna.dvar)"
   ]
  }
 ],
 "metadata": {
  "kernelspec": {
   "display_name": "Python 3.10.0 64-bit",
   "language": "python",
   "name": "python3"
  },
  "language_info": {
   "codemirror_mode": {
    "name": "ipython",
    "version": 3
   },
   "file_extension": ".py",
   "mimetype": "text/x-python",
   "name": "python",
   "nbconvert_exporter": "python",
   "pygments_lexer": "ipython3",
   "version": "3.10.0"
  },
  "orig_nbformat": 4,
  "vscode": {
   "interpreter": {
    "hash": "aee8b7b246df8f9039afb4144a1f6fd8d2ca17a180786b69acc140d282b71a49"
   }
  }
 },
 "nbformat": 4,
 "nbformat_minor": 2
}
