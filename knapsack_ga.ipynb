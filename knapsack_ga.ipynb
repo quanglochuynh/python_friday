{
 "cells": [
  {
   "cell_type": "code",
   "execution_count": 91,
   "metadata": {},
   "outputs": [],
   "source": [
    "import numpy as np\n",
    "\n",
    "n = 5\n",
    "m = 15\n",
    "\n",
    "w = [12, 2, 1, 1, 4]\n",
    "v = [4, 2, 1, 2, 10]"
   ]
  },
  {
   "cell_type": "code",
   "execution_count": 92,
   "metadata": {},
   "outputs": [],
   "source": [
    "class DNA:\n",
    "    def __init__(self):\n",
    "        self.dvar = np.random.randint(0,2,n)\n",
    "        self.fitness = 0\n",
    "\n",
    "    \n",
    "    def calc_fitness(self):\n",
    "        self.fitness = np.sum(self.dvar * v)\n",
    "        total_weight = np.sum(self.dvar * w)\n",
    "        err = total_weight - m\n",
    "        if total_weight>m:\n",
    "            self.fitness = self.fitness - 2*err\n",
    "\n",
    "    def mutate(self):\n",
    "        for i in range(n):\n",
    "            if np.random.rand()<0.25:\n",
    "                self.dvar[i] = 1 - self.dvar[i]\n",
    "            "
   ]
  },
  {
   "cell_type": "code",
   "execution_count": 93,
   "metadata": {},
   "outputs": [
    {
     "name": "stdout",
     "output_type": "stream",
     "text": [
      "[0 0 0 0 0]\n",
      "0\n"
     ]
    }
   ],
   "source": [
    "dna = DNA()\n",
    "print(dna.dvar)\n",
    "print(dna.fitness)"
   ]
  },
  {
   "cell_type": "code",
   "execution_count": 94,
   "metadata": {},
   "outputs": [],
   "source": [
    "def crossover(dna1, dna2):\n",
    "    new_dna = DNA()\n",
    "    mid = np.random.randint(0,n)\n",
    "    a1 = dna1.dvar[0:mid]\n",
    "    a2 = dna2.dvar[mid:n]\n",
    "    new_dna.dvar = np.concatenate([a1, a2], axis=None)\n",
    "    new_dna.calc_fitness()\n",
    "    return new_dna"
   ]
  },
  {
   "cell_type": "code",
   "execution_count": 95,
   "metadata": {},
   "outputs": [
    {
     "name": "stdout",
     "output_type": "stream",
     "text": [
      "[1 0 1 0 0]\n",
      "[1 1 0 0 0]\n"
     ]
    }
   ],
   "source": [
    "d1 = DNA()\n",
    "print(d1.dvar)\n",
    "d2 = DNA()\n",
    "print(d2.dvar)"
   ]
  },
  {
   "cell_type": "code",
   "execution_count": 96,
   "metadata": {},
   "outputs": [
    {
     "name": "stdout",
     "output_type": "stream",
     "text": [
      "[1 0 0 0 0]\n",
      "4\n"
     ]
    }
   ],
   "source": [
    "d3 = crossover(d1, d2)\n",
    "print(d3.dvar)\n",
    "print(d3.fitness)"
   ]
  },
  {
   "cell_type": "code",
   "execution_count": 97,
   "metadata": {},
   "outputs": [
    {
     "name": "stdout",
     "output_type": "stream",
     "text": [
      "[1 0 0 1 1]\n"
     ]
    }
   ],
   "source": [
    "d4 = DNA()\n",
    "print(d4.dvar)\n"
   ]
  },
  {
   "cell_type": "code",
   "execution_count": 98,
   "metadata": {},
   "outputs": [
    {
     "name": "stdout",
     "output_type": "stream",
     "text": [
      "[0 1 0 1 0]\n"
     ]
    }
   ],
   "source": [
    "d4.mutate()\n",
    "print(d4.dvar)"
   ]
  }
 ],
 "metadata": {
  "kernelspec": {
   "display_name": "Python 3.10.0 64-bit",
   "language": "python",
   "name": "python3"
  },
  "language_info": {
   "codemirror_mode": {
    "name": "ipython",
    "version": 3
   },
   "file_extension": ".py",
   "mimetype": "text/x-python",
   "name": "python",
   "nbconvert_exporter": "python",
   "pygments_lexer": "ipython3",
   "version": "3.10.0"
  },
  "orig_nbformat": 4,
  "vscode": {
   "interpreter": {
    "hash": "aee8b7b246df8f9039afb4144a1f6fd8d2ca17a180786b69acc140d282b71a49"
   }
  }
 },
 "nbformat": 4,
 "nbformat_minor": 2
}
