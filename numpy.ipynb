{
 "cells": [
  {
   "cell_type": "code",
   "execution_count": 2,
   "metadata": {},
   "outputs": [],
   "source": [
    "import numpy as np"
   ]
  },
  {
   "cell_type": "code",
   "execution_count": 4,
   "metadata": {},
   "outputs": [
    {
     "name": "stdout",
     "output_type": "stream",
     "text": [
      "[ 4.   6.   1.   0.  -4.   3.5]\n"
     ]
    }
   ],
   "source": [
    "a = np.array([4, 6, 1, 0, -4, 3.5])\n",
    "print(a)"
   ]
  },
  {
   "cell_type": "code",
   "execution_count": 5,
   "metadata": {},
   "outputs": [
    {
     "name": "stdout",
     "output_type": "stream",
     "text": [
      "[ 2.   7.   3.  -3.   1.   1.5]\n"
     ]
    }
   ],
   "source": [
    "b = np.array([2, 7, 3, -3, 1, 1.5])\n",
    "print(b)"
   ]
  },
  {
   "cell_type": "code",
   "execution_count": 6,
   "metadata": {},
   "outputs": [
    {
     "name": "stdout",
     "output_type": "stream",
     "text": [
      "[ 6. 13.  4. -3. -3.  5.]\n"
     ]
    }
   ],
   "source": [
    "c = a+b\n",
    "print(c)"
   ]
  },
  {
   "cell_type": "code",
   "execution_count": 7,
   "metadata": {},
   "outputs": [
    {
     "name": "stdout",
     "output_type": "stream",
     "text": [
      "[ 2. -1. -2.  3. -5.  2.]\n"
     ]
    }
   ],
   "source": [
    "d = a-b\n",
    "print(d)"
   ]
  },
  {
   "cell_type": "code",
   "execution_count": 8,
   "metadata": {},
   "outputs": [
    {
     "name": "stdout",
     "output_type": "stream",
     "text": [
      "[ 8.   42.    3.   -0.   -4.    5.25]\n"
     ]
    }
   ],
   "source": [
    "e = a*b\n",
    "print(e)"
   ]
  },
  {
   "cell_type": "code",
   "execution_count": 9,
   "metadata": {},
   "outputs": [
    {
     "name": "stdout",
     "output_type": "stream",
     "text": [
      "10.5\n"
     ]
    }
   ],
   "source": [
    "sum = np.sum(a)\n",
    "print(sum)"
   ]
  },
  {
   "cell_type": "code",
   "execution_count": 12,
   "metadata": {},
   "outputs": [
    {
     "name": "stdout",
     "output_type": "stream",
     "text": [
      "1.75\n"
     ]
    }
   ],
   "source": [
    "mean = np.mean(a)\n",
    "print(mean)"
   ]
  },
  {
   "cell_type": "code",
   "execution_count": 13,
   "metadata": {},
   "outputs": [
    {
     "name": "stdout",
     "output_type": "stream",
     "text": [
      "[16.   36.    1.    0.   16.   12.25]\n"
     ]
    }
   ],
   "source": [
    "pow2 = np.power(a,2)\n",
    "print(pow2)"
   ]
  },
  {
   "cell_type": "code",
   "execution_count": 17,
   "metadata": {},
   "outputs": [
    {
     "name": "stdout",
     "output_type": "stream",
     "text": [
      "[ 4.   6.   1.   0.  -4.   3.5  2.   7.   3.  -3.   1.   1.5]\n"
     ]
    }
   ],
   "source": [
    "con = np.concatenate([a,b], axis=0)\n",
    "print(con)"
   ]
  },
  {
   "cell_type": "code",
   "execution_count": 20,
   "metadata": {},
   "outputs": [
    {
     "name": "stdout",
     "output_type": "stream",
     "text": [
      "[[ 4.   6.   1.   0.  -4.   3.5]\n",
      " [ 2.   7.   3.  -3.   1.   1.5]]\n"
     ]
    }
   ],
   "source": [
    "con = np.array([a,b])\n",
    "print(con)"
   ]
  },
  {
   "cell_type": "code",
   "execution_count": 32,
   "metadata": {},
   "outputs": [
    {
     "name": "stdout",
     "output_type": "stream",
     "text": [
      "(2, 6)\n",
      "(1, 6)\n",
      "[ 2. -1. -2.  3. -5.  2.]\n"
     ]
    }
   ],
   "source": [
    "print(np.shape(con))\n",
    "print(np.shape([d]))\n",
    "print(d)"
   ]
  },
  {
   "cell_type": "code",
   "execution_count": 36,
   "metadata": {},
   "outputs": [
    {
     "name": "stdout",
     "output_type": "stream",
     "text": [
      "[[ 4.   6.   1.   0.  -4.   3.5]\n",
      " [ 2.   7.   3.  -3.   1.   1.5]\n",
      " [ 2.  -1.  -2.   3.  -5.   2. ]]\n"
     ]
    }
   ],
   "source": [
    "con2 = np.concatenate([con, [d]], axis=0)\n",
    "print(con2)"
   ]
  },
  {
   "cell_type": "code",
   "execution_count": 33,
   "metadata": {},
   "outputs": [
    {
     "name": "stdout",
     "output_type": "stream",
     "text": [
      "(2, 6)\n",
      "(3, 6)\n"
     ]
    }
   ],
   "source": [
    "print(np.shape(con))\n",
    "print(np.shape(con2))"
   ]
  },
  {
   "cell_type": "code",
   "execution_count": 37,
   "metadata": {},
   "outputs": [
    {
     "name": "stdout",
     "output_type": "stream",
     "text": [
      "(6, 3)\n"
     ]
    }
   ],
   "source": [
    "con2_transposed = np.transpose(con2)\n",
    "print(np.shape(con2_transposed))"
   ]
  },
  {
   "cell_type": "code",
   "execution_count": 38,
   "metadata": {},
   "outputs": [
    {
     "name": "stdout",
     "output_type": "stream",
     "text": [
      "[[ 81.25  54.25  27.  ]\n",
      " [ 54.25  74.25 -20.  ]]\n"
     ]
    }
   ],
   "source": [
    "dot = np.dot(con, con2_transposed)\n",
    "print(dot)"
   ]
  },
  {
   "cell_type": "code",
   "execution_count": 39,
   "metadata": {},
   "outputs": [
    {
     "name": "stdout",
     "output_type": "stream",
     "text": [
      "[[2 3 4]\n",
      " [6 7 8]]\n"
     ]
    }
   ],
   "source": [
    "m = np.array([[2,3,4],[6,7,8]])\n",
    "print(m)"
   ]
  },
  {
   "cell_type": "code",
   "execution_count": 40,
   "metadata": {},
   "outputs": [],
   "source": [
    "import matplotlib.pyplot as plt"
   ]
  },
  {
   "cell_type": "code",
   "execution_count": 44,
   "metadata": {},
   "outputs": [
    {
     "data": {
      "text/plain": [
       "[<matplotlib.lines.Line2D at 0x1201b4df0>]"
      ]
     },
     "execution_count": 44,
     "metadata": {},
     "output_type": "execute_result"
    },
    {
     "data": {
      "image/png": "[encoded data removed]",
      "text/plain": [
       "<Figure size 432x288 with 1 Axes>"
      ]
     },
     "metadata": {
      "needs_background": "light"
     },
     "output_type": "display_data"
    }
   ],
   "source": [
    "plt.plot(a)\n",
    "plt.plot(b)\n",
    "plt.plot(c)"
   ]
  },
  {
   "cell_type": "code",
   "execution_count": 46,
   "metadata": {},
   "outputs": [
    {
     "name": "stdout",
     "output_type": "stream",
     "text": [
      "[-10.   -9.9  -9.8  -9.7  -9.6  -9.5  -9.4  -9.3  -9.2  -9.1  -9.   -8.9\n",
      "  -8.8  -8.7  -8.6  -8.5  -8.4  -8.3  -8.2  -8.1  -8.   -7.9  -7.8  -7.7\n",
      "  -7.6  -7.5  -7.4  -7.3  -7.2  -7.1  -7.   -6.9  -6.8  -6.7  -6.6  -6.5\n",
      "  -6.4  -6.3  -6.2  -6.1  -6.   -5.9  -5.8  -5.7  -5.6  -5.5  -5.4  -5.3\n",
      "  -5.2  -5.1  -5.   -4.9  -4.8  -4.7  -4.6  -4.5  -4.4  -4.3  -4.2  -4.1\n",
      "  -4.   -3.9  -3.8  -3.7  -3.6  -3.5  -3.4  -3.3  -3.2  -3.1  -3.   -2.9\n",
      "  -2.8  -2.7  -2.6  -2.5  -2.4  -2.3  -2.2  -2.1  -2.   -1.9  -1.8  -1.7\n",
      "  -1.6  -1.5  -1.4  -1.3  -1.2  -1.1  -1.   -0.9  -0.8  -0.7  -0.6  -0.5\n",
      "  -0.4  -0.3  -0.2  -0.1   0.    0.1   0.2   0.3   0.4   0.5   0.6   0.7\n",
      "   0.8   0.9   1.    1.1   1.2   1.3   1.4   1.5   1.6   1.7   1.8   1.9\n",
      "   2.    2.1   2.2   2.3   2.4   2.5   2.6   2.7   2.8   2.9   3.    3.1\n",
      "   3.2   3.3   3.4   3.5   3.6   3.7   3.8   3.9   4.    4.1   4.2   4.3\n",
      "   4.4   4.5   4.6   4.7   4.8   4.9   5.    5.1   5.2   5.3   5.4   5.5\n",
      "   5.6   5.7   5.8   5.9   6.    6.1   6.2   6.3   6.4   6.5   6.6   6.7\n",
      "   6.8   6.9   7.    7.1   7.2   7.3   7.4   7.5   7.6   7.7   7.8   7.9\n",
      "   8.    8.1   8.2   8.3   8.4   8.5   8.6   8.7   8.8   8.9   9.    9.1\n",
      "   9.2   9.3   9.4   9.5   9.6   9.7   9.8   9.9  10. ]\n"
     ]
    }
   ],
   "source": [
    "x = np.linspace(-10,10,201)\n",
    "print(x)"
   ]
  },
  {
   "cell_type": "code",
   "execution_count": 47,
   "metadata": {},
   "outputs": [
    {
     "name": "stdout",
     "output_type": "stream",
     "text": [
      "[ 0.54402111  0.45753589  0.36647913  0.27176063  0.17432678  0.07515112\n",
      " -0.02477543 -0.12445442 -0.22288991 -0.31909836 -0.41211849 -0.50102086\n",
      " -0.58491719 -0.66296923 -0.7343971  -0.79848711 -0.85459891 -0.90217183\n",
      " -0.94073056 -0.96988981 -0.98935825 -0.99894134 -0.99854335 -0.98816823\n",
      " -0.96791967 -0.93799998 -0.8987081  -0.85043662 -0.79366786 -0.72896904\n",
      " -0.6569866  -0.57843976 -0.49411335 -0.40484992 -0.31154136 -0.21511999\n",
      " -0.1165492  -0.0168139   0.0830894   0.1821625   0.2794155   0.37387666\n",
      "  0.46460218  0.55068554  0.63126664  0.70554033  0.77276449  0.83226744\n",
      "  0.88345466  0.92581468  0.95892427  0.98245261  0.99616461  0.99992326\n",
      "  0.993691    0.97753012  0.95160207  0.91616594  0.87157577  0.81827711\n",
      "  0.7568025   0.68776616  0.61185789  0.52983614  0.44252044  0.35078323\n",
      "  0.2555411   0.15774569  0.05837414 -0.04158066 -0.14112001 -0.23924933\n",
      " -0.33498815 -0.42737988 -0.51550137 -0.59847214 -0.67546318 -0.74570521\n",
      " -0.8084964  -0.86320937 -0.90929743 -0.94630009 -0.97384763 -0.99166481\n",
      " -0.9995736  -0.99749499 -0.98544973 -0.96355819 -0.93203909 -0.89120736\n",
      " -0.84147098 -0.78332691 -0.71735609 -0.64421769 -0.56464247 -0.47942554\n",
      " -0.38941834 -0.29552021 -0.19866933 -0.09983342  0.          0.09983342\n",
      "  0.19866933  0.29552021  0.38941834  0.47942554  0.56464247  0.64421769\n",
      "  0.71735609  0.78332691  0.84147098  0.89120736  0.93203909  0.96355819\n",
      "  0.98544973  0.99749499  0.9995736   0.99166481  0.97384763  0.94630009\n",
      "  0.90929743  0.86320937  0.8084964   0.74570521  0.67546318  0.59847214\n",
      "  0.51550137  0.42737988  0.33498815  0.23924933  0.14112001  0.04158066\n",
      " -0.05837414 -0.15774569 -0.2555411  -0.35078323 -0.44252044 -0.52983614\n",
      " -0.61185789 -0.68776616 -0.7568025  -0.81827711 -0.87157577 -0.91616594\n",
      " -0.95160207 -0.97753012 -0.993691   -0.99992326 -0.99616461 -0.98245261\n",
      " -0.95892427 -0.92581468 -0.88345466 -0.83226744 -0.77276449 -0.70554033\n",
      " -0.63126664 -0.55068554 -0.46460218 -0.37387666 -0.2794155  -0.1821625\n",
      " -0.0830894   0.0168139   0.1165492   0.21511999  0.31154136  0.40484992\n",
      "  0.49411335  0.57843976  0.6569866   0.72896904  0.79366786  0.85043662\n",
      "  0.8987081   0.93799998  0.96791967  0.98816823  0.99854335  0.99894134\n",
      "  0.98935825  0.96988981  0.94073056  0.90217183  0.85459891  0.79848711\n",
      "  0.7343971   0.66296923  0.58491719  0.50102086  0.41211849  0.31909836\n",
      "  0.22288991  0.12445442  0.02477543 -0.07515112 -0.17432678 -0.27176063\n",
      " -0.36647913 -0.45753589 -0.54402111]\n"
     ]
    }
   ],
   "source": [
    "y = np.sin(x)\n",
    "print(y)"
   ]
  },
  {
   "cell_type": "code",
   "execution_count": 48,
   "metadata": {},
   "outputs": [
    {
     "data": {
      "text/plain": [
       "[<matplotlib.lines.Line2D at 0x1202401c0>]"
      ]
     },
     "execution_count": 48,
     "metadata": {},
     "output_type": "execute_result"
    },
    {
     "data": {
      "image/png": "[encoded data removed]",
      "text/plain": [
       "<Figure size 432x288 with 1 Axes>"
      ]
     },
     "metadata": {
      "needs_background": "light"
     },
     "output_type": "display_data"
    }
   ],
   "source": [
    "plt.plot(x,y)"
   ]
  }
 ],
 "metadata": {
  "kernelspec": {
   "display_name": "Python 3.10.0 64-bit",
   "language": "python",
   "name": "python3"
  },
  "language_info": {
   "codemirror_mode": {
    "name": "ipython",
    "version": 3
   },
   "file_extension": ".py",
   "mimetype": "text/x-python",
   "name": "python",
   "nbconvert_exporter": "python",
   "pygments_lexer": "ipython3",
   "version": "3.10.0"
  },
  "orig_nbformat": 4,
  "vscode": {
   "interpreter": {
    "hash": "aee8b7b246df8f9039afb4144a1f6fd8d2ca17a180786b69acc140d282b71a49"
   }
  }
 },
 "nbformat": 4,
 "nbformat_minor": 2
}
