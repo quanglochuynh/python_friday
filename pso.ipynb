{
 "cells": [
  {
   "cell_type": "code",
   "execution_count": 10,
   "metadata": {},
   "outputs": [],
   "source": [
    "import numpy as np\n",
    "import math\n",
    "\n",
    "# minimize: x^2 + y^2 + z^4  \n",
    "#-100 < x,y,z <100\n",
    "\n",
    "class Particle:\n",
    "    def __init__(self):\n",
    "        self.dvar = np.random.random(3)*200 -100\n",
    "        self.velocity = np.random.random(3)*200 -100\n",
    "        self.personal_best = None\n",
    "        self.fitness = None\n",
    "        \n",
    "    def calc_fitness(self):\n",
    "        self.fitness = pow(self.dvar[0],2) + pow(self.dvar[1],2) + pow(self.dvar[2],4)"
   ]
  },
  {
   "cell_type": "code",
   "execution_count": 11,
   "metadata": {},
   "outputs": [
    {
     "name": "stdout",
     "output_type": "stream",
     "text": [
      "[40.60373285 88.25133061 43.39356365]\n",
      "3555131.105588672\n"
     ]
    }
   ],
   "source": [
    "p1 = Particle()\n",
    "p1.calc_fitness()\n",
    "print(p1.dvar)\n",
    "print(p1.fitness)"
   ]
  },
  {
   "cell_type": "code",
   "execution_count": 14,
   "metadata": {},
   "outputs": [
    {
     "name": "stdout",
     "output_type": "stream",
     "text": [
      "10657.655224818118\n",
      "[ 35.77945575 -96.8262272   -1.21336001]\n"
     ]
    }
   ],
   "source": [
    "pop_size = 20\n",
    "population = []\n",
    "best_fit = math.inf\n",
    "global_best = Particle()\n",
    "\n",
    "for i in range(pop_size):\n",
    "    population.append(Particle())\n",
    "    population[i].calc_fitness()\n",
    "    population[i].personal_best = Particle()\n",
    "    if (population[i].fitness < best_fit):\n",
    "        best_fit = population[i].fitness\n",
    "        global_best = population[i]\n",
    "\n",
    "print(best_fit)\n",
    "print(global_best.dvar)"
   ]
  },
  {
   "cell_type": "code",
   "execution_count": null,
   "metadata": {},
   "outputs": [],
   "source": []
  },
  {
   "cell_type": "code",
   "execution_count": null,
   "metadata": {},
   "outputs": [],
   "source": []
  }
 ],
 "metadata": {
  "kernelspec": {
   "display_name": "Python 3.10.0 64-bit",
   "language": "python",
   "name": "python3"
  },
  "language_info": {
   "codemirror_mode": {
    "name": "ipython",
    "version": 3
   },
   "file_extension": ".py",
   "mimetype": "text/x-python",
   "name": "python",
   "nbconvert_exporter": "python",
   "pygments_lexer": "ipython3",
   "version": "3.10.0"
  },
  "orig_nbformat": 4,
  "vscode": {
   "interpreter": {
    "hash": "aee8b7b246df8f9039afb4144a1f6fd8d2ca17a180786b69acc140d282b71a49"
   }
  }
 },
 "nbformat": 4,
 "nbformat_minor": 2
}
